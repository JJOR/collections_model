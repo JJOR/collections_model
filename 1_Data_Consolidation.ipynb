{
 "cells": [
  {
   "cell_type": "code",
   "execution_count": 2,
   "id": "7394c3bb",
   "metadata": {},
   "outputs": [],
   "source": [
    "import boto3\n",
    "import io\n",
    "import pandas as pd\n",
    "import numpy as np\n",
    "\n",
    "import matplotlib.pyplot as plt\n",
    "import seaborn as sns; sns.set()\n",
    "\n",
    "# export to S-3\n",
    "import awswrangler as wr\n",
    "\n",
    "# Imputation\n",
    "from sklearn.impute import SimpleImputer\n",
    "\n",
    "\n",
    "plt.style.use('fivethirtyeight')\n",
    "\n",
    "import warnings\n",
    "warnings.filterwarnings(\"ignore\")"
   ]
  },
  {
   "cell_type": "code",
   "execution_count": null,
   "id": "f03db0fd",
   "metadata": {},
   "outputs": [],
   "source": [
    "#!pip install awswrangler"
   ]
  },
  {
   "cell_type": "code",
   "execution_count": 40,
   "id": "8dc59701",
   "metadata": {},
   "outputs": [],
   "source": [
    "pd.set_option('display.max_rows', 200)"
   ]
  },
  {
   "cell_type": "markdown",
   "id": "ba940d80",
   "metadata": {},
   "source": [
    "#### Load multiple Parquet Files from S-3"
   ]
  },
  {
   "cell_type": "code",
   "execution_count": 3,
   "id": "0f5e9efc",
   "metadata": {},
   "outputs": [],
   "source": [
    "session = boto3.Session()\n",
    "s3 = session.client('s3')"
   ]
  },
  {
   "cell_type": "code",
   "execution_count": 4,
   "id": "fbf29d39",
   "metadata": {},
   "outputs": [],
   "source": [
    "bucket_name = 'ppsg-collections'\n",
    "file_dir = '2021-06-01/random_data/'\n",
    "\n",
    "response = s3.list_objects(Bucket = bucket_name, Prefix = file_dir + 'g')"
   ]
  },
  {
   "cell_type": "code",
   "execution_count": 18,
   "id": "3c31f5d6",
   "metadata": {},
   "outputs": [
    {
     "name": "stdout",
     "output_type": "stream",
     "text": [
      "0  =  2021-06-01/random_data/get_col_Conv_2020_1.parquet\n",
      "1  =  2021-06-01/random_data/get_col_Conv_2020_10.parquet\n",
      "2  =  2021-06-01/random_data/get_col_Conv_2020_11.parquet\n",
      "3  =  2021-06-01/random_data/get_col_Conv_2020_12.parquet\n",
      "4  =  2021-06-01/random_data/get_col_Conv_2020_2.parquet\n",
      "5  =  2021-06-01/random_data/get_col_Conv_2020_3.parquet\n",
      "6  =  2021-06-01/random_data/get_col_Conv_2020_4.parquet\n",
      "7  =  2021-06-01/random_data/get_col_Conv_2020_5.parquet\n",
      "8  =  2021-06-01/random_data/get_col_Conv_2020_6.parquet\n",
      "9  =  2021-06-01/random_data/get_col_Conv_2020_7.parquet\n",
      "10  =  2021-06-01/random_data/get_col_Conv_2020_8.parquet\n",
      "11  =  2021-06-01/random_data/get_col_Conv_2020_9.parquet\n",
      "12  =  2021-06-01/random_data/get_col_Conv_2021_1.parquet\n",
      "13  =  2021-06-01/random_data/get_col_Conv_2021_2.parquet\n",
      "14  =  2021-06-01/random_data/get_col_Conv_2021_3.parquet\n",
      "15  =  2021-06-01/random_data/get_col_FHA_2020_1.parquet\n",
      "16  =  2021-06-01/random_data/get_col_FHA_2020_10.parquet\n",
      "17  =  2021-06-01/random_data/get_col_FHA_2020_11.parquet\n",
      "18  =  2021-06-01/random_data/get_col_FHA_2020_12.parquet\n",
      "19  =  2021-06-01/random_data/get_col_FHA_2020_2.parquet\n",
      "20  =  2021-06-01/random_data/get_col_FHA_2020_3.parquet\n",
      "21  =  2021-06-01/random_data/get_col_FHA_2020_4.parquet\n",
      "22  =  2021-06-01/random_data/get_col_FHA_2020_5.parquet\n",
      "23  =  2021-06-01/random_data/get_col_FHA_2020_6.parquet\n",
      "24  =  2021-06-01/random_data/get_col_FHA_2020_7.parquet\n",
      "25  =  2021-06-01/random_data/get_col_FHA_2020_8.parquet\n",
      "26  =  2021-06-01/random_data/get_col_FHA_2020_9.parquet\n",
      "27  =  2021-06-01/random_data/get_col_FHA_2021_1.parquet\n",
      "28  =  2021-06-01/random_data/get_col_FHA_2021_2.parquet\n",
      "29  =  2021-06-01/random_data/get_col_FHA_2021_3.parquet\n",
      "30  =  2021-06-01/random_data/get_col_RHS_2020_1.parquet\n",
      "31  =  2021-06-01/random_data/get_col_RHS_2020_10.parquet\n",
      "32  =  2021-06-01/random_data/get_col_RHS_2020_11.parquet\n",
      "33  =  2021-06-01/random_data/get_col_RHS_2020_12.parquet\n",
      "34  =  2021-06-01/random_data/get_col_RHS_2020_2.parquet\n",
      "35  =  2021-06-01/random_data/get_col_RHS_2020_3.parquet\n",
      "36  =  2021-06-01/random_data/get_col_RHS_2020_4.parquet\n",
      "37  =  2021-06-01/random_data/get_col_RHS_2020_5.parquet\n",
      "38  =  2021-06-01/random_data/get_col_RHS_2020_6.parquet\n",
      "39  =  2021-06-01/random_data/get_col_RHS_2020_7.parquet\n",
      "40  =  2021-06-01/random_data/get_col_RHS_2020_8.parquet\n",
      "41  =  2021-06-01/random_data/get_col_RHS_2020_9.parquet\n",
      "42  =  2021-06-01/random_data/get_col_RHS_2021_1.parquet\n",
      "43  =  2021-06-01/random_data/get_col_RHS_2021_2.parquet\n",
      "44  =  2021-06-01/random_data/get_col_RHS_2021_3.parquet\n",
      "45  =  2021-06-01/random_data/get_col_VA_2020_1.parquet\n",
      "46  =  2021-06-01/random_data/get_col_VA_2020_10.parquet\n",
      "47  =  2021-06-01/random_data/get_col_VA_2020_11.parquet\n",
      "48  =  2021-06-01/random_data/get_col_VA_2020_12.parquet\n",
      "49  =  2021-06-01/random_data/get_col_VA_2020_2.parquet\n",
      "50  =  2021-06-01/random_data/get_col_VA_2020_3.parquet\n",
      "51  =  2021-06-01/random_data/get_col_VA_2020_4.parquet\n",
      "52  =  2021-06-01/random_data/get_col_VA_2020_5.parquet\n",
      "53  =  2021-06-01/random_data/get_col_VA_2020_6.parquet\n",
      "54  =  2021-06-01/random_data/get_col_VA_2020_7.parquet\n",
      "55  =  2021-06-01/random_data/get_col_VA_2020_8.parquet\n",
      "56  =  2021-06-01/random_data/get_col_VA_2020_9.parquet\n",
      "57  =  2021-06-01/random_data/get_col_VA_2021_1.parquet\n",
      "58  =  2021-06-01/random_data/get_col_VA_2021_2.parquet\n",
      "59  =  2021-06-01/random_data/get_col_VA_2021_3.parquet\n",
      "60  =  2021-06-01/random_data/get_col_null_2020_1.parquet\n",
      "61  =  2021-06-01/random_data/get_col_null_2020_10.parquet\n",
      "62  =  2021-06-01/random_data/get_col_null_2020_11.parquet\n",
      "63  =  2021-06-01/random_data/get_col_null_2020_12.parquet\n",
      "64  =  2021-06-01/random_data/get_col_null_2020_2.parquet\n",
      "65  =  2021-06-01/random_data/get_col_null_2020_3.parquet\n",
      "66  =  2021-06-01/random_data/get_col_null_2020_4.parquet\n",
      "67  =  2021-06-01/random_data/get_col_null_2020_5.parquet\n",
      "68  =  2021-06-01/random_data/get_col_null_2020_6.parquet\n",
      "69  =  2021-06-01/random_data/get_col_null_2020_7.parquet\n",
      "70  =  2021-06-01/random_data/get_col_null_2020_8.parquet\n",
      "71  =  2021-06-01/random_data/get_col_null_2020_9.parquet\n",
      "72  =  2021-06-01/random_data/get_col_null_2021_1.parquet\n",
      "73  =  2021-06-01/random_data/get_col_null_2021_2.parquet\n",
      "74  =  2021-06-01/random_data/get_col_null_2021_3.parquet\n",
      "CPU times: user 3min 5s, sys: 3min 36s, total: 6min 41s\n",
      "Wall time: 2min 55s\n"
     ]
    }
   ],
   "source": [
    "%%time\n",
    "\n",
    "df = []\n",
    "for i in range(len(response['Contents'])):\n",
    "    key = response['Contents'][i]['Key']\n",
    "    obj = s3.get_object(Bucket = bucket_name\n",
    "                        , Key = key)\n",
    "    df_temp = pd.read_parquet(io.BytesIO(obj['Body'].read()))\n",
    "    df.append(df_temp)\n",
    "    print(i,' = ',response['Contents'][i]['Key'])\n",
    "df = pd.concat(df, ignore_index = True)"
   ]
  },
  {
   "cell_type": "code",
   "execution_count": 24,
   "id": "ea2d4a3c",
   "metadata": {},
   "outputs": [
    {
     "name": "stdout",
     "output_type": "stream",
     "text": [
      "CPU times: user 6min 41s, sys: 1min 13s, total: 7min 55s\n",
      "Wall time: 7min 4s\n"
     ]
    },
    {
     "data": {
      "text/plain": [
       "{'paths': ['s3://ppsg-collections/2021-06-01/consolidated/random_data/consolidated_sample.parquet'],\n",
       " 'partitions_values': {}}"
      ]
     },
     "execution_count": 24,
     "metadata": {},
     "output_type": "execute_result"
    }
   ],
   "source": [
    "%%time\n",
    "\n",
    "#export to S-3\n",
    "import awswrangler as wr\n",
    "wr.s3.to_parquet(\n",
    "    df=df,\n",
    "    path=\"s3://ppsg-collections/2021-06-01/consolidated/random_data/consolidated_sample_expanded.parquet\"\n",
    ")"
   ]
  }
 ],
 "metadata": {
  "kernelspec": {
   "display_name": "conda_python3",
   "language": "python",
   "name": "conda_python3"
  },
  "language_info": {
   "codemirror_mode": {
    "name": "ipython",
    "version": 3
   },
   "file_extension": ".py",
   "mimetype": "text/x-python",
   "name": "python",
   "nbconvert_exporter": "python",
   "pygments_lexer": "ipython3",
   "version": "3.6.13"
  }
 },
 "nbformat": 4,
 "nbformat_minor": 5
}
