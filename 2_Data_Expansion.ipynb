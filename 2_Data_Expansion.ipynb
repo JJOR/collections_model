{
 "cells": [
  {
   "cell_type": "code",
   "execution_count": 2,
   "id": "b5524d83",
   "metadata": {},
   "outputs": [],
   "source": [
    "import boto3\n",
    "import io\n",
    "import pandas as pd\n",
    "import numpy as np\n",
    "\n",
    "import matplotlib.pyplot as plt\n",
    "import seaborn as sns; sns.set()\n",
    "\n",
    "# export to S-3\n",
    "import awswrangler as wr\n",
    "\n",
    "# Imputation\n",
    "from sklearn.impute import SimpleImputer\n",
    "\n",
    "\n",
    "plt.style.use('fivethirtyeight')\n",
    "\n",
    "import warnings\n",
    "warnings.filterwarnings(\"ignore\")"
   ]
  },
  {
   "cell_type": "code",
   "execution_count": null,
   "id": "b97a7e69",
   "metadata": {},
   "outputs": [],
   "source": [
    "#!pip install awswrangler"
   ]
  },
  {
   "cell_type": "code",
   "execution_count": 40,
   "id": "f776bdce",
   "metadata": {},
   "outputs": [],
   "source": [
    "pd.set_option('display.max_rows', 200)"
   ]
  },
  {
   "cell_type": "markdown",
   "id": "17cc566a",
   "metadata": {},
   "source": [
    "### Load a consolidated file from S-3"
   ]
  },
  {
   "cell_type": "code",
   "execution_count": 5,
   "id": "ae4fa921",
   "metadata": {},
   "outputs": [],
   "source": [
    "session = boto3.Session()\n",
    "s3 = session.client('s3')"
   ]
  },
  {
   "cell_type": "code",
   "execution_count": 6,
   "id": "9282e98f",
   "metadata": {},
   "outputs": [],
   "source": [
    "bucket_name = 'ppsg-collections'\n",
    "file_name = '2021-06-01/consolidated/random_data/consolidated_sample.parquet'"
   ]
  },
  {
   "cell_type": "code",
   "execution_count": 7,
   "id": "ab1b07f6",
   "metadata": {},
   "outputs": [
    {
     "name": "stdout",
     "output_type": "stream",
     "text": [
      "CPU times: user 2min 4s, sys: 3min 41s, total: 5min 45s\n",
      "Wall time: 1min 52s\n"
     ]
    }
   ],
   "source": [
    "%%time\n",
    "obj = s3.get_object(Bucket = bucket_name, Key = file_name)\n",
    "df = pd.read_parquet(io.BytesIO(obj['Body'].read())) "
   ]
  },
  {
   "cell_type": "code",
   "execution_count": 6,
   "id": "f65f2ddb",
   "metadata": {},
   "outputs": [],
   "source": [
    "df = df.fillna(value=np.nan)"
   ]
  },
  {
   "cell_type": "markdown",
   "id": "8777543a",
   "metadata": {},
   "source": [
    "### Set Processing periods"
   ]
  },
  {
   "cell_type": "code",
   "execution_count": 7,
   "id": "d05a96e8",
   "metadata": {},
   "outputs": [],
   "source": [
    "start_date = '2020-02-01'\n",
    "end_date = '2021-04-01'"
   ]
  },
  {
   "cell_type": "markdown",
   "id": "9079a347",
   "metadata": {},
   "source": [
    "#### Choose data periods"
   ]
  },
  {
   "cell_type": "code",
   "execution_count": 8,
   "id": "f1fbf580",
   "metadata": {},
   "outputs": [],
   "source": [
    "df= df[(df['nextpaymentduedt']>=start_date) & (df['nextpaymentduedt']<=end_date)]"
   ]
  },
  {
   "cell_type": "code",
   "execution_count": 9,
   "id": "655931a2",
   "metadata": {},
   "outputs": [],
   "source": [
    "# remove 2020 April data\n",
    "df =  df[df['nextpaymentduedt'] != '2020-04-01']"
   ]
  },
  {
   "cell_type": "markdown",
   "id": "dbc33172",
   "metadata": {},
   "source": [
    "### Import Functions"
   ]
  },
  {
   "cell_type": "code",
   "execution_count": 10,
   "id": "5f3a0f4b",
   "metadata": {},
   "outputs": [],
   "source": [
    "from important_functions import processing_data"
   ]
  },
  {
   "cell_type": "markdown",
   "id": "9ef0d6e3",
   "metadata": {},
   "source": [
    "### Processing Data (Rollback  --> Expand -- > Add one more row to handle Sunday)"
   ]
  },
  {
   "cell_type": "code",
   "execution_count": 36,
   "id": "dd3d8ca3",
   "metadata": {},
   "outputs": [
    {
     "name": "stdout",
     "output_type": "stream",
     "text": [
      "CPU times: user 51min 6s, sys: 9min 28s, total: 1h 34s\n",
      "Wall time: 1h 14s\n"
     ]
    }
   ],
   "source": [
    "%%time\n",
    "df = processing_data (df,method = 'add row')"
   ]
  },
  {
   "cell_type": "code",
   "execution_count": 11,
   "id": "2a4ccdb8",
   "metadata": {},
   "outputs": [
    {
     "name": "stdout",
     "output_type": "stream",
     "text": [
      "CPU times: user 2min 44s, sys: 23.5 s, total: 3min 7s\n",
      "Wall time: 2min 43s\n"
     ]
    },
    {
     "data": {
      "text/plain": [
       "{'paths': ['s3://ppsg-collections/2021-06-01/consolidated/random_data/consolidated_sample_expanded.parquet'],\n",
       " 'partitions_values': {}}"
      ]
     },
     "execution_count": 11,
     "metadata": {},
     "output_type": "execute_result"
    }
   ],
   "source": [
    "%%time\n",
    "import awswrangler as wr\n",
    "wr.s3.to_parquet(\n",
    "    df=df,\n",
    "    path='s3://ppsg-collections/2021-06-01/consolidated/random_data/consolidated_sample_expanded.parquet'\n",
    ")"
   ]
  },
  {
   "cell_type": "code",
   "execution_count": 42,
   "id": "10f693cb",
   "metadata": {},
   "outputs": [
    {
     "data": {
      "text/plain": [
       "(28488619, 153)"
      ]
     },
     "execution_count": 42,
     "metadata": {},
     "output_type": "execute_result"
    }
   ],
   "source": [
    "#df.shape"
   ]
  },
  {
   "cell_type": "code",
   "execution_count": 44,
   "id": "94597497",
   "metadata": {},
   "outputs": [
    {
     "data": {
      "text/html": [
       "<div>\n",
       "<style scoped>\n",
       "    .dataframe tbody tr th:only-of-type {\n",
       "        vertical-align: middle;\n",
       "    }\n",
       "\n",
       "    .dataframe tbody tr th {\n",
       "        vertical-align: top;\n",
       "    }\n",
       "\n",
       "    .dataframe thead th {\n",
       "        text-align: right;\n",
       "    }\n",
       "</style>\n",
       "<table border=\"1\" class=\"dataframe\">\n",
       "  <thead>\n",
       "    <tr style=\"text-align: right;\">\n",
       "      <th></th>\n",
       "      <th>loanid</th>\n",
       "      <th>loanstatusid</th>\n",
       "      <th>nextpaymentduedt</th>\n",
       "      <th>rundt</th>\n",
       "      <th>ndd</th>\n",
       "      <th>rundatenumber</th>\n",
       "      <th>priormeperiod</th>\n",
       "      <th>MEPeriod</th>\n",
       "      <th>loanstatus</th>\n",
       "      <th>priorstatus</th>\n",
       "      <th>...</th>\n",
       "      <th>apprbucket</th>\n",
       "      <th>amorttype</th>\n",
       "      <th>termbucket</th>\n",
       "      <th>CRAFlag</th>\n",
       "      <th>rollback</th>\n",
       "      <th>PastDue</th>\n",
       "      <th>days_in_month</th>\n",
       "      <th>PmtDt</th>\n",
       "      <th>PaidDt</th>\n",
       "      <th>Down2</th>\n",
       "    </tr>\n",
       "  </thead>\n",
       "  <tbody>\n",
       "    <tr>\n",
       "      <th>0</th>\n",
       "      <td>1000017538</td>\n",
       "      <td>A</td>\n",
       "      <td>2020-02-01</td>\n",
       "      <td>2020-02-02</td>\n",
       "      <td>20200201.0</td>\n",
       "      <td>20200202.0</td>\n",
       "      <td>202001.0</td>\n",
       "      <td>202001.0</td>\n",
       "      <td>P</td>\n",
       "      <td>1</td>\n",
       "      <td>...</td>\n",
       "      <td>Other</td>\n",
       "      <td>Fixed</td>\n",
       "      <td>30 yr</td>\n",
       "      <td>N</td>\n",
       "      <td>0.0</td>\n",
       "      <td>1</td>\n",
       "      <td>29</td>\n",
       "      <td>2020-03-03</td>\n",
       "      <td>31</td>\n",
       "      <td>1</td>\n",
       "    </tr>\n",
       "    <tr>\n",
       "      <th>1</th>\n",
       "      <td>1000017538</td>\n",
       "      <td>A</td>\n",
       "      <td>2020-02-01</td>\n",
       "      <td>2020-02-03</td>\n",
       "      <td>20200201.0</td>\n",
       "      <td>20200203.0</td>\n",
       "      <td>202001.0</td>\n",
       "      <td>202001.0</td>\n",
       "      <td>P</td>\n",
       "      <td>1</td>\n",
       "      <td>...</td>\n",
       "      <td>Other</td>\n",
       "      <td>Fixed</td>\n",
       "      <td>30 yr</td>\n",
       "      <td>N</td>\n",
       "      <td>0.0</td>\n",
       "      <td>2</td>\n",
       "      <td>29</td>\n",
       "      <td>2020-03-03</td>\n",
       "      <td>31</td>\n",
       "      <td>1</td>\n",
       "    </tr>\n",
       "    <tr>\n",
       "      <th>2</th>\n",
       "      <td>1000017538</td>\n",
       "      <td>A</td>\n",
       "      <td>2020-02-01</td>\n",
       "      <td>2020-02-04</td>\n",
       "      <td>20200201.0</td>\n",
       "      <td>20200204.0</td>\n",
       "      <td>202001.0</td>\n",
       "      <td>202001.0</td>\n",
       "      <td>P</td>\n",
       "      <td>1</td>\n",
       "      <td>...</td>\n",
       "      <td>Other</td>\n",
       "      <td>Fixed</td>\n",
       "      <td>30 yr</td>\n",
       "      <td>N</td>\n",
       "      <td>0.0</td>\n",
       "      <td>3</td>\n",
       "      <td>29</td>\n",
       "      <td>2020-03-03</td>\n",
       "      <td>31</td>\n",
       "      <td>1</td>\n",
       "    </tr>\n",
       "    <tr>\n",
       "      <th>3</th>\n",
       "      <td>1000017538</td>\n",
       "      <td>A</td>\n",
       "      <td>2020-02-01</td>\n",
       "      <td>2020-02-05</td>\n",
       "      <td>20200201.0</td>\n",
       "      <td>20200205.0</td>\n",
       "      <td>202001.0</td>\n",
       "      <td>202001.0</td>\n",
       "      <td>P</td>\n",
       "      <td>1</td>\n",
       "      <td>...</td>\n",
       "      <td>Other</td>\n",
       "      <td>Fixed</td>\n",
       "      <td>30 yr</td>\n",
       "      <td>N</td>\n",
       "      <td>0.0</td>\n",
       "      <td>4</td>\n",
       "      <td>29</td>\n",
       "      <td>2020-03-03</td>\n",
       "      <td>31</td>\n",
       "      <td>1</td>\n",
       "    </tr>\n",
       "    <tr>\n",
       "      <th>4</th>\n",
       "      <td>1000017538</td>\n",
       "      <td>A</td>\n",
       "      <td>2020-02-01</td>\n",
       "      <td>2020-02-06</td>\n",
       "      <td>20200201.0</td>\n",
       "      <td>20200206.0</td>\n",
       "      <td>202001.0</td>\n",
       "      <td>202001.0</td>\n",
       "      <td>P</td>\n",
       "      <td>1</td>\n",
       "      <td>...</td>\n",
       "      <td>Other</td>\n",
       "      <td>Fixed</td>\n",
       "      <td>30 yr</td>\n",
       "      <td>N</td>\n",
       "      <td>0.0</td>\n",
       "      <td>5</td>\n",
       "      <td>29</td>\n",
       "      <td>2020-03-03</td>\n",
       "      <td>31</td>\n",
       "      <td>1</td>\n",
       "    </tr>\n",
       "  </tbody>\n",
       "</table>\n",
       "<p>5 rows × 153 columns</p>\n",
       "</div>"
      ],
      "text/plain": [
       "       loanid loanstatusid nextpaymentduedt      rundt         ndd  \\\n",
       "0  1000017538            A       2020-02-01 2020-02-02  20200201.0   \n",
       "1  1000017538            A       2020-02-01 2020-02-03  20200201.0   \n",
       "2  1000017538            A       2020-02-01 2020-02-04  20200201.0   \n",
       "3  1000017538            A       2020-02-01 2020-02-05  20200201.0   \n",
       "4  1000017538            A       2020-02-01 2020-02-06  20200201.0   \n",
       "\n",
       "   rundatenumber  priormeperiod  MEPeriod loanstatus priorstatus  ...  \\\n",
       "0     20200202.0       202001.0  202001.0          P           1  ...   \n",
       "1     20200203.0       202001.0  202001.0          P           1  ...   \n",
       "2     20200204.0       202001.0  202001.0          P           1  ...   \n",
       "3     20200205.0       202001.0  202001.0          P           1  ...   \n",
       "4     20200206.0       202001.0  202001.0          P           1  ...   \n",
       "\n",
       "  apprbucket  amorttype  termbucket  CRAFlag  rollback  PastDue  \\\n",
       "0      Other      Fixed       30 yr        N       0.0        1   \n",
       "1      Other      Fixed       30 yr        N       0.0        2   \n",
       "2      Other      Fixed       30 yr        N       0.0        3   \n",
       "3      Other      Fixed       30 yr        N       0.0        4   \n",
       "4      Other      Fixed       30 yr        N       0.0        5   \n",
       "\n",
       "   days_in_month      PmtDt  PaidDt Down2  \n",
       "0             29 2020-03-03      31     1  \n",
       "1             29 2020-03-03      31     1  \n",
       "2             29 2020-03-03      31     1  \n",
       "3             29 2020-03-03      31     1  \n",
       "4             29 2020-03-03      31     1  \n",
       "\n",
       "[5 rows x 153 columns]"
      ]
     },
     "execution_count": 44,
     "metadata": {},
     "output_type": "execute_result"
    }
   ],
   "source": [
    "#df.head()"
   ]
  }
 ],
 "metadata": {
  "kernelspec": {
   "display_name": "conda_python3",
   "language": "python",
   "name": "conda_python3"
  },
  "language_info": {
   "codemirror_mode": {
    "name": "ipython",
    "version": 3
   },
   "file_extension": ".py",
   "mimetype": "text/x-python",
   "name": "python",
   "nbconvert_exporter": "python",
   "pygments_lexer": "ipython3",
   "version": "3.6.13"
  }
 },
 "nbformat": 4,
 "nbformat_minor": 5
}
